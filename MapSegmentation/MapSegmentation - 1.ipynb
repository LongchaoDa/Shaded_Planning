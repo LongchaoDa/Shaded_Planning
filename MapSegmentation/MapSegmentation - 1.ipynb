{
 "cells": [
  {
   "cell_type": "code",
   "execution_count": 3,
   "id": "7ad02ea0",
   "metadata": {},
   "outputs": [],
   "source": [
    "import requests\n",
    "import os.path\n",
    "from main import *\n",
    "latTop = 33.425711\n",
    "latBottom = 33.421959\n",
    "longLeft = -111.943388\n",
    "longRight = -111.936484\n",
    "\n",
    "zoom = 20\n",
    "imgSize = 400\n",
    "segmentMap(latTop, latBottom, longLeft, longRight, zoom, imgSize)"
   ]
  }
 ],
 "metadata": {
  "kernelspec": {
   "display_name": "Python 3 (ipykernel)",
   "language": "python",
   "name": "python3"
  },
  "language_info": {
   "codemirror_mode": {
    "name": "ipython",
    "version": 3
   },
   "file_extension": ".py",
   "mimetype": "text/x-python",
   "name": "python",
   "nbconvert_exporter": "python",
   "pygments_lexer": "ipython3",
   "version": "3.11.3"
  }
 },
 "nbformat": 4,
 "nbformat_minor": 5
}
