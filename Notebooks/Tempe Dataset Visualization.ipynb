{
 "cells": [
  {
   "cell_type": "markdown",
   "id": "fe321423",
   "metadata": {},
   "source": [
    "# Tempe Dataset notebook"
   ]
  },
  {
   "cell_type": "markdown",
   "id": "7a5d203f",
   "metadata": {},
   "source": [
    "### Downloading Dependencies"
   ]
  },
  {
   "cell_type": "code",
   "execution_count": 5,
   "id": "b154fd6c",
   "metadata": {},
   "outputs": [],
   "source": [
    "import sys\n",
    "!{sys.executable} -m pip install numpy\n",
    "!{sys.executable} -m pip install os\n",
    "!{sys.executable} -m pip install math\n",
    "!{sys.executable} -m pip install matplotlib\n",
    "!{sys.executable} -m pip install copy\n",
    "!{sys.executable} -m pip install imp\n",
    "!{sys.executable} -m pip install cv2\n",
    "!{sys.executable} -m pip install json\n",
    "!{sys.executable} -m pip install requests\n",
    "!{sys.executable} -m pip install pandas\n",
    "\n",
    "# If gives error, try \"brew install boost\"\n",
    "!{sys.executable} -m pip install osm2gmns"
   ]
  },
  {
   "cell_type": "markdown",
   "id": "852c9fcf",
   "metadata": {},
   "source": [
    "### Importing Dependencies"
   ]
  },
  {
   "cell_type": "code",
   "execution_count": 2,
   "id": "9cd368a7",
   "metadata": {},
   "outputs": [
    {
     "name": "stderr",
     "output_type": "stream",
     "text": [
      "/var/folders/sp/p58zvn2x0j74k4wxmrwnyh7h0000gn/T/ipykernel_41255/4272483760.py:1: DeprecationWarning: the imp module is deprecated in favour of importlib and slated for removal in Python 3.12; see the module's documentation for alternative uses\n",
      "  import imp\n"
     ]
    },
    {
     "name": "stdout",
     "output_type": "stream",
     "text": [
      "osm2gmns, version 0.5.2\n"
     ]
    },
    {
     "data": {
      "text/html": [
       "\n",
       "<a target=\"_blank\" href=\"https://colab.research.google.com/github/facebookresearch/segment-anything/blob/main/notebooks/automatic_mask_generator_example.ipynb\">\n",
       "  <img src=\"https://colab.research.google.com/assets/colab-badge.svg\" alt=\"Open In Colab\"/>\n",
       "</a>\n"
      ],
      "text/plain": [
       "<IPython.core.display.HTML object>"
      ]
     },
     "metadata": {},
     "output_type": "display_data"
    },
    {
     "data": {
      "text/html": [
       "\n",
       "<a target=\"_blank\" href=\"https://colab.research.google.com/github/facebookresearch/segment-anything/blob/main/notebooks/automatic_mask_generator_example.ipynb\">\n",
       "  <img src=\"https://colab.research.google.com/assets/colab-badge.svg\" alt=\"Open In Colab\"/>\n",
       "</a>\n"
      ],
      "text/plain": [
       "<IPython.core.display.HTML object>"
      ]
     },
     "metadata": {},
     "output_type": "display_data"
    }
   ],
   "source": [
    "import imp\n",
    "import os\n",
    "import numpy as np;\n",
    "import requests\n",
    "mapSegUtils = imp.load_source('mapSegmentUtils.py', '../Utils/mapSegmentUtils.py');\n",
    "osmUtils = imp.load_source('osmUtils.py', '../Utils/osmUtils.py');\n",
    "imageLinkUtils = imp.load_source('imageLinkUtils.py', '../Utils/imageLinkUtils.py');\n",
    "imUtils = imp.load_source('imageUtils.py', '../Utils/imageUtils.py');\n",
    "import math\n",
    "import matplotlib.pyplot as plt"
   ]
  },
  {
   "cell_type": "code",
   "execution_count": 9,
   "id": "63ebda79",
   "metadata": {},
   "outputs": [],
   "source": [
    "# Parameters\n",
    "zoom = 20\n",
    "imgSize = 400\n",
    "\n",
    "latTop = 33.4365\n",
    "latBottom = 33.32759\n",
    "longLeft = -111.9784\n",
    "longRight = -111.89361\n",
    "\n",
    "dirName = \"../Dataset/DataSetTempe\"\n",
    "areaName = \"Tempe City\""
   ]
  },
  {
   "cell_type": "code",
   "execution_count": 15,
   "id": "102cb44d",
   "metadata": {},
   "outputs": [
    {
     "name": "stdout",
     "output_type": "stream",
     "text": [
      "w, s, e, n\n",
      "-111.9784 33.32759 -111.89361 33.4365\n",
      "url:\n",
      "http://overpass.openstreetmap.ru/cgi/xapi_meta?*[bbox=-111.9784,33.32759,-111.89361,33.4365]\n"
     ]
    }
   ],
   "source": [
    "n = latTop;\n",
    "s = latBottom;\n",
    "w = longLeft;\n",
    "e = longRight\n",
    "# print(\"w, s, e, n\")\n",
    "# print(w, s, e, n)\n",
    "\n",
    "# # url = \"https://www.openstreetmap.org/api/0.6/map?bbox={}%2C{}%2C{}%2C{}\".format(w, s, e, n)\n",
    "# url = f\"http://overpass.openstreetmap.ru/cgi/xapi_meta?*[bbox={w},{s},{e},{n}]\";\n",
    "\n",
    "\n",
    "# print(\"url:\")\n",
    "# print(url)\n",
    "# response = requests.get(url)\n",
    "# if response.status_code == 200:\n",
    "#     file_path = \"./map2\" + \".osm\"\n",
    "#     with open(file_path, 'wb') as file:\n",
    "#         file.write(response.content)\n",
    "# else:\n",
    "#     file_path = 'None'\n",
    "#     print(\"Failed to retrieve the data.\")"
   ]
  },
  {
   "cell_type": "markdown",
   "id": "1a3ffe2a",
   "metadata": {},
   "source": [
    "### Extracting links from OSM data"
   ]
  },
  {
   "cell_type": "code",
   "execution_count": 5,
   "id": "acb8d5b7",
   "metadata": {},
   "outputs": [],
   "source": [
    "# net = osmUtils.getOsmNodeLinksUsingExistingMap(\"mapTempe.osm\")"
   ]
  },
  {
   "cell_type": "code",
   "execution_count": 6,
   "id": "d860be0d",
   "metadata": {},
   "outputs": [],
   "source": [
    "# osmUtils.outputNetToCSV(net) #net"
   ]
  },
  {
   "cell_type": "code",
   "execution_count": 19,
   "id": "2d52280d",
   "metadata": {},
   "outputs": [],
   "source": [
    "# osmUtils.showNet(net)"
   ]
  },
  {
   "cell_type": "markdown",
   "id": "03a141e2",
   "metadata": {},
   "source": [
    "### Creating dictionary of image indices to roads present in the image\n",
    "Like in calculating shade rate, here too we can use link coordinates to find roads that are present in an image.\n",
    "However, it might not make that big of a difference."
   ]
  },
  {
   "cell_type": "code",
   "execution_count": 36,
   "id": "c6bac091",
   "metadata": {},
   "outputs": [],
   "source": [
    "imgFolderPath = \"../Dataset/DataSetTempe\";\n",
    "imgDirPath = os.path.join(imgFolderPath, \"imageDirectory\");\n",
    "\n",
    "nodeFilePath = \"nodeTempe.csv\";\n",
    "linkFilePath = \"linkTempe.csv\";\n",
    "\n",
    "# The dictionary\n",
    "with open('imageLinksDir.pkl', 'rb') as f:\n",
    "    imageLinksDir = pickle.load(f)"
   ]
  },
  {
   "cell_type": "markdown",
   "id": "77ee6097",
   "metadata": {},
   "source": [
    "### Finding total shades for each of the road\n"
   ]
  },
  {
   "cell_type": "code",
   "execution_count": 49,
   "id": "42ba8d58",
   "metadata": {},
   "outputs": [],
   "source": [
    "imUtils.getImageDirData(imgDirPath)\n",
    "dirPath = imgFolderPath;\n",
    "nodeFilePath = \"nodeTempe.csv\";\n",
    "linkFilePath = \"linkTempe.csv\";\n",
    "threshold = 70\n",
    "totalRoadShadeCoverage, totalMasks, totalImage = imageLinkUtils.calcShadeRatesForRoadsInAllImages(dirPath, nodeFilePath, linkFilePath, threshold, imageLinksDir)"
   ]
  },
  {
   "cell_type": "code",
   "execution_count": null,
   "id": "4cb4792b",
   "metadata": {},
   "outputs": [],
   "source": [
    "imgData = imUtils.getImageDirData(imgDirPath);\n",
    "xLim = imUtils.getImageDirData()['numRows'];\n",
    "yLim = imUtils.getImageDirData()['numCols'];"
   ]
  },
  {
   "cell_type": "markdown",
   "id": "774b0374",
   "metadata": {},
   "source": [
    "### Data Visualization"
   ]
  },
  {
   "cell_type": "code",
   "execution_count": 50,
   "id": "23766e06",
   "metadata": {},
   "outputs": [],
   "source": [
    "nodeFilePath = \"nodeTempe.csv\";\n",
    "node2CoordDict = osmUtils.getNode2CoordinatesDict(nodeFilePath)"
   ]
  },
  {
   "cell_type": "code",
   "execution_count": 51,
   "id": "aa57b1bf",
   "metadata": {},
   "outputs": [],
   "source": [
    "linkFilePath = \"linkTempe.csv\";\n",
    "linkID2NodeDict = osmUtils.getLinkID2EndNodesDict(linkFilePath);"
   ]
  },
  {
   "cell_type": "code",
   "execution_count": 52,
   "id": "afaaa65c",
   "metadata": {},
   "outputs": [],
   "source": [
    "linkFilePath = \"linkTempe.csv\";\n",
    "linkIDToNodePair = osmUtils.getLinkID2EndNodesDict(linkFilePath)"
   ]
  },
  {
   "cell_type": "code",
   "execution_count": 53,
   "id": "6aa29bf9",
   "metadata": {},
   "outputs": [],
   "source": [
    "linkFilePath = \"linkTempe.csv\";\n",
    "nodes2LinkCoordsDict = osmUtils.getNodes2LinkCoordsDict(linkFilePath)"
   ]
  },
  {
   "cell_type": "code",
   "execution_count": null,
   "id": "2e647f6f",
   "metadata": {},
   "outputs": [],
   "source": [
    "coordinateSamples = [];\n",
    "for linkID in totalRoadShadeCoverage:\n",
    "    # Obtaining link coords from nodes.\n",
    "    nodePair0 = linkIDToNodePair[linkID]\n",
    "    linkCoords = nodes2LinkCoordsDict[nodePair0];\n",
    "    \n",
    "    for i in range(len(linkCoords) - 1):\n",
    "    \n",
    "        percentageCover = totalRoadShadeCoverage[linkID][\"percentageCover\"];\n",
    "        node0Coords = linkCoords[i];\n",
    "        node1Coords = linkCoords[i + 1];\n",
    "\n",
    "\n",
    "        lat_1 = node0Coords[0];\n",
    "        long_1 = node0Coords[1];  \n",
    "\n",
    "        lat_2 = node1Coords[0];\n",
    "        long_2 = node1Coords[1];\n",
    "\n",
    "        alpha = np.linspace(0, 1, 50*(math.floor(percentageCover) + 10));\n",
    "\n",
    "        longSamples = long_1 + alpha * (long_2 - long_1);\n",
    "        latSamples  = lat_1  + alpha * (lat_2  - lat_1);\n",
    "        coordSamples = [];\n",
    "        n = 20;\n",
    "        \n",
    "        # Adding samples to thicken the line\n",
    "        for i in range(len(longSamples)):\n",
    "            muLat = latSamples[i];\n",
    "            muLong = longSamples[i];\n",
    "            # Vary this to vary width - keep around 0.00001\n",
    "            sigma = 0.00003\n",
    "            latPerpSamples = np.random.normal(muLat, sigma, n);\n",
    "            longPerpSamples = np.random.normal(muLong, sigma, n);\n",
    "            \n",
    "            addent = np.transpose(np.vstack((latPerpSamples, longPerpSamples)))   \n",
    "            \n",
    "            if len(coordSamples) == 0:\n",
    "                coordSamples = addent;\n",
    "            else:\n",
    "                coordSamples = np.vstack((coordSamples, addent));\n",
    "\n",
    "    \n",
    "        addent = np.transpose(np.vstack((latSamples, longSamples)))   \n",
    "                \n",
    "        if len(coordinateSamples) == 0:\n",
    "            coordinateSamples = addent;\n",
    "        else:\n",
    "            coordinateSamples = np.vstack((coordinateSamples, addent));\n",
    "            \n",
    "        coordinateSamples = np.vstack((coordinateSamples, coordSamples));\n",
    "print(coordinateSamples.shape)"
   ]
  },
  {
   "cell_type": "code",
   "execution_count": null,
   "id": "3f102b43",
   "metadata": {},
   "outputs": [],
   "source": [
    "import datashader as ds, pandas as pd, colorcet\n",
    "from datashader.colors import Hot\n",
    "\n",
    "df  = pd.DataFrame(coordinateSamples, columns = ['lat', 'long']);\n",
    "cvs = ds.Canvas(plot_width=700, plot_height=700)\n",
    "agg = cvs.points(df, 'lat', 'long')\n",
    "img = ds.tf.shade(agg, cmap=['white', 'yellow', 'orange', 'red', 'maroon', 'brown'], how='log')\n",
    "img"
   ]
  },
  {
   "cell_type": "code",
   "execution_count": null,
   "id": "4e2e50cb",
   "metadata": {},
   "outputs": [],
   "source": [
    "plt.imshow(img)"
   ]
  }
 ],
 "metadata": {
  "kernelspec": {
   "display_name": "Python 3 (ipykernel)",
   "language": "python",
   "name": "python3"
  },
  "language_info": {
   "codemirror_mode": {
    "name": "ipython",
    "version": 3
   },
   "file_extension": ".py",
   "mimetype": "text/x-python",
   "name": "python",
   "nbconvert_exporter": "python",
   "pygments_lexer": "ipython3",
   "version": "3.11.3"
  }
 },
 "nbformat": 4,
 "nbformat_minor": 5
}
